{
 "cells": [
  {
   "cell_type": "code",
   "execution_count": 1,
   "id": "c6b5a840",
   "metadata": {},
   "outputs": [],
   "source": [
    "import torch\n",
    "from torch import nn\n",
    "from torch.nn import functional as F"
   ]
  },
  {
   "cell_type": "code",
   "execution_count": 8,
   "id": "f1abc8ac",
   "metadata": {},
   "outputs": [
    {
     "data": {
      "text/plain": [
       "tensor([[0.9596, 0.8182, 0.5110, 0.6206, 0.3600, 0.5617, 0.6610, 0.4387, 0.5112,\n",
       "         0.9972, 0.2526, 0.5971, 0.0322, 0.8156, 0.7839, 0.9746, 0.6571, 0.8001,\n",
       "         0.5706, 0.5718],\n",
       "        [0.3359, 0.5953, 0.7211, 0.1227, 0.9040, 0.9644, 0.3645, 0.1438, 0.0934,\n",
       "         0.4524, 0.8171, 0.6789, 0.7734, 0.0078, 0.2854, 0.3359, 0.9255, 0.2190,\n",
       "         0.9357, 0.3690]])"
      ]
     },
     "execution_count": 8,
     "metadata": {},
     "output_type": "execute_result"
    }
   ],
   "source": [
    "x=torch.rand(2,20)\n",
    "x"
   ]
  },
  {
   "cell_type": "code",
   "execution_count": 3,
   "id": "e5822cec",
   "metadata": {},
   "outputs": [
    {
     "data": {
      "text/plain": [
       "tensor([[ 0.0778,  0.2849, -0.1687,  0.0344, -0.1148, -0.0494,  0.1902,  0.0419,\n",
       "         -0.1769,  0.0445],\n",
       "        [ 0.0791,  0.2757, -0.1600,  0.0592, -0.0320, -0.0162,  0.2524, -0.0094,\n",
       "         -0.1744,  0.0748]], grad_fn=<AddmmBackward0>)"
      ]
     },
     "execution_count": 3,
     "metadata": {},
     "output_type": "execute_result"
    }
   ],
   "source": [
    "net=nn.Sequential(nn.Linear(20,256),nn.ReLU(),nn.Linear(256,10))\n",
    "net(x)"
   ]
  },
  {
   "cell_type": "code",
   "execution_count": null,
   "id": "e34d9245",
   "metadata": {},
   "outputs": [
    {
     "data": {
      "text/plain": [
       "tensor([[-4.6158e-02,  2.3660e-01, -1.1163e-01, -1.9590e-01, -1.2612e-02,\n",
       "         -1.7347e-01, -3.3502e-01,  8.7561e-02, -7.4558e-02,  2.6319e-01],\n",
       "        [-2.4958e-04,  6.5260e-02, -2.5039e-01, -1.3955e-01, -1.9888e-01,\n",
       "         -2.9041e-01, -1.5157e-01,  5.2006e-02, -1.1413e-01,  2.1962e-01]],\n",
       "       grad_fn=<AddmmBackward0>)"
      ]
     },
     "execution_count": 10,
     "metadata": {},
     "output_type": "execute_result"
    }
   ],
   "source": [
    "#构建一个自己的类，实现和sequential类一样的功能\n",
    "class MySequential(nn.Module):\n",
    "    def __init__(self,*args):\n",
    "        super().__init__()\n",
    "        for idx,module in enumerate(args):\n",
    "            self._modules[str(idx)]=module \n",
    "    \n",
    "    def forward(self,x):\n",
    "        for block in self._modules.values():#values()是一个方法！括号不可省\n",
    "            x=block(x)\n",
    "        return x\n",
    "\n",
    "net2=MySequential(nn.Linear(20,256),nn.ReLU(),nn.Linear(256,10))\n",
    "net2(x)"
   ]
  },
  {
   "cell_type": "code",
   "execution_count": 18,
   "id": "0e26fa02",
   "metadata": {},
   "outputs": [
    {
     "name": "stdout",
     "output_type": "stream",
     "text": [
      "('weight', torch.Size([8, 4])) ('bias', torch.Size([8]))\n",
      "('0.weight', torch.Size([8, 4])) ('0.bias', torch.Size([8])) ('2.weight', torch.Size([1, 8])) ('2.bias', torch.Size([1]))\n"
     ]
    }
   ],
   "source": [
    "#参数访问\n",
    "network=nn.Sequential(nn.Linear(4,8),nn.ReLU(),nn.Linear(8,1))\n",
    "# print(network.state_dict()) #一次性访问所有参数\n",
    "#print(network[2].state_dict()) #只访问第二层的参数，为一个OrderedDict\n",
    "#network[2].weight.grad==None\n",
    "print(*[(name,param.shape) for name,param in network[0].named_parameters()])\n",
    "print(*[(name,param.shape) for name,param in network.named_parameters()])"
   ]
  },
  {
   "cell_type": "code",
   "execution_count": 20,
   "id": "0446b39c",
   "metadata": {},
   "outputs": [
    {
     "data": {
      "text/plain": [
       "tensor([-0.2095])"
      ]
     },
     "execution_count": 20,
     "metadata": {},
     "output_type": "execute_result"
    }
   ],
   "source": [
    "#根据上面的输出得到启发\n",
    "network.state_dict()['2.bias'].data"
   ]
  },
  {
   "cell_type": "code",
   "execution_count": 21,
   "id": "d6949885",
   "metadata": {},
   "outputs": [
    {
     "name": "stdout",
     "output_type": "stream",
     "text": [
      "Wed Apr 23 19:00:13 2025       \n",
      "+-----------------------------------------------------------------------------------------+\n",
      "| NVIDIA-SMI 572.61                 Driver Version: 572.61         CUDA Version: 12.8     |\n",
      "|-----------------------------------------+------------------------+----------------------+\n",
      "| GPU  Name                  Driver-Model | Bus-Id          Disp.A | Volatile Uncorr. ECC |\n",
      "| Fan  Temp   Perf          Pwr:Usage/Cap |           Memory-Usage | GPU-Util  Compute M. |\n",
      "|                                         |                        |               MIG M. |\n",
      "|=========================================+========================+======================|\n",
      "|   0  NVIDIA GeForce MX330         WDDM  |   00000000:03:00.0 Off |                  N/A |\n",
      "| N/A   45C    P0            N/A  / 5001W |       0MiB /   2048MiB |      0%      Default |\n",
      "|                                         |                        |                  N/A |\n",
      "+-----------------------------------------+------------------------+----------------------+\n",
      "                                                                                         \n",
      "+-----------------------------------------------------------------------------------------+\n",
      "| Processes:                                                                              |\n",
      "|  GPU   GI   CI              PID   Type   Process name                        GPU Memory |\n",
      "|        ID   ID                                                               Usage      |\n",
      "|=========================================================================================|\n",
      "|  No running processes found                                                             |\n",
      "+-----------------------------------------------------------------------------------------+\n"
     ]
    }
   ],
   "source": [
    "!nvidia-smi"
   ]
  },
  {
   "cell_type": "code",
   "execution_count": 22,
   "id": "ee7a53f0",
   "metadata": {},
   "outputs": [
    {
     "data": {
      "text/plain": [
       "1"
      ]
     },
     "execution_count": 22,
     "metadata": {},
     "output_type": "execute_result"
    }
   ],
   "source": [
    "torch.cuda.device_count()"
   ]
  }
 ],
 "metadata": {
  "kernelspec": {
   "display_name": "my2",
   "language": "python",
   "name": "python3"
  },
  "language_info": {
   "codemirror_mode": {
    "name": "ipython",
    "version": 3
   },
   "file_extension": ".py",
   "mimetype": "text/x-python",
   "name": "python",
   "nbconvert_exporter": "python",
   "pygments_lexer": "ipython3",
   "version": "3.8.20"
  }
 },
 "nbformat": 4,
 "nbformat_minor": 5
}
