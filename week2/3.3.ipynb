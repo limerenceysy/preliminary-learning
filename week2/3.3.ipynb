{
 "cells": [
  {
   "cell_type": "code",
   "execution_count": 1,
   "id": "1509fd8f",
   "metadata": {},
   "outputs": [
    {
     "data": {
      "text/plain": [
       "[tensor([[-1.7221e+00, -1.1864e+00],\n",
       "         [-1.0629e+00, -3.9560e-01],\n",
       "         [-4.7970e-02,  9.6876e-01],\n",
       "         [ 2.2386e-01, -6.9571e-01],\n",
       "         [-2.7760e-01,  2.2626e-01],\n",
       "         [-5.1337e-01,  2.1228e-01],\n",
       "         [ 1.0987e+00, -7.1235e-01],\n",
       "         [ 1.8047e+00,  5.5775e-01],\n",
       "         [ 7.3841e-02,  8.4072e-01],\n",
       "         [-5.5570e-01,  1.0085e-03]]),\n",
       " tensor([[4.7798],\n",
       "         [3.3953],\n",
       "         [0.8047],\n",
       "         [7.0309],\n",
       "         [2.8763],\n",
       "         [2.4500],\n",
       "         [8.8380],\n",
       "         [5.9244],\n",
       "         [1.4771],\n",
       "         [3.0723]])]"
      ]
     },
     "execution_count": 1,
     "metadata": {},
     "output_type": "execute_result"
    }
   ],
   "source": [
    "import numpy as np\n",
    "import torch\n",
    "from torch.utils import data\n",
    "from d2l import torch as d2l\n",
    "\n",
    "#生成数据集\n",
    "t_w=torch.tensor([2,-3.4])\n",
    "t_b=4.2\n",
    "features,labels=d2l.synthetic_data(t_w,t_b,1000)\n",
    "\n",
    "#读取数据集\n",
    "#TensorDataset 是 PyTorch 中的一个数据集包装器，它接受多个张量作为参数，并将它们组合成一个数据集\n",
    "#*data_arrays是Python的参数解包操作,它将data_arrays元组中的每个元素作为单独的参数传递给TensorDataset构造函数\n",
    "#返回DataLoader 对象，它负责按批次加载数据集\n",
    "def load_array(data_arrays,batch_size,is_train=True):\n",
    "    dataset=data.TensorDataset(*data_arrays)\n",
    "    return data.DataLoader(dataset,batch_size,shuffle=is_train)\n",
    "\n",
    "batch_size=10\n",
    "data_iter=load_array((features,labels),batch_size)\n",
    "#使用 iter() 函数创建一个迭代器，然后使用 next() 函数从迭代器中获取下一个元素，即第一个批次的数据。\n",
    "next(iter(data_iter))"
   ]
  },
  {
   "cell_type": "code",
   "execution_count": 2,
   "id": "1872365d",
   "metadata": {},
   "outputs": [
    {
     "data": {
      "text/plain": [
       "tensor([0.])"
      ]
     },
     "execution_count": 2,
     "metadata": {},
     "output_type": "execute_result"
    }
   ],
   "source": [
    "#定义模型\n",
    "from torch import nn\n",
    "net=nn.Sequential(nn.Linear(2,1))\n",
    "#初始化模型参数\n",
    "net[0].weight.data.normal_(0,0.01)\n",
    "net[0].bias.data.fill_(0)"
   ]
  },
  {
   "cell_type": "code",
   "execution_count": null,
   "id": "dfba478e",
   "metadata": {},
   "outputs": [
    {
     "name": "stdout",
     "output_type": "stream",
     "text": [
      "epoch 1, loss 0.000269\n",
      "epoch 2, loss 0.000104\n",
      "epoch 3, loss 0.000103\n"
     ]
    }
   ],
   "source": [
    "#定义损失函数\n",
    "#不要忘记加括号！！否则报错RuntimeError: Boolean value of Tensor with more than one value is ambiguous\n",
    "loss=nn.MSELoss()\n",
    "#定义优化算法\n",
    "trainer=torch.optim.SGD(net.parameters(),lr=0.03)\n",
    "#训练\n",
    "num_epochs = 3\n",
    "for epoch in range(num_epochs):\n",
    "    for X, y in data_iter:\n",
    "        l = loss(net(X),y)\n",
    "        trainer.zero_grad()\n",
    "        l.backward()\n",
    "        trainer.step()\n",
    "    l = loss(net(features), labels)\n",
    "    print(f'epoch {epoch + 1}, loss {l:f}')"
   ]
  }
 ],
 "metadata": {
  "kernelspec": {
   "display_name": "my2",
   "language": "python",
   "name": "python3"
  },
  "language_info": {
   "codemirror_mode": {
    "name": "ipython",
    "version": 3
   },
   "file_extension": ".py",
   "mimetype": "text/x-python",
   "name": "python",
   "nbconvert_exporter": "python",
   "pygments_lexer": "ipython3",
   "version": "3.8.20"
  }
 },
 "nbformat": 4,
 "nbformat_minor": 5
}
