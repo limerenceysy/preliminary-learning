{
 "cells": [
  {
   "cell_type": "code",
   "execution_count": 1,
   "id": "dd3a56db",
   "metadata": {},
   "outputs": [],
   "source": [
    "import torch\n",
    "from torch import nn\n",
    "from d2l import torch as d2l\n",
    "\n",
    "#transposed convolution\n",
    "def trans_conv(X,K):\n",
    "    h,w=K.shape\n",
    "    Y=torch.zeros(X.shape[0]+h-1,X.shape[1]+w-1)\n",
    "    for i in range(X.shape[0]):\n",
    "        for j in range(X.shape[1]):\n",
    "            Y[i:i+h,j:j+w]+=X[i,j]*K\n",
    "    return Y"
   ]
  },
  {
   "cell_type": "code",
   "execution_count": 4,
   "id": "f0153443",
   "metadata": {},
   "outputs": [
    {
     "data": {
      "text/plain": [
       "tensor([[ 0.,  0.,  1.],\n",
       "        [ 0.,  4.,  6.],\n",
       "        [ 4., 12.,  9.]])"
      ]
     },
     "execution_count": 4,
     "metadata": {},
     "output_type": "execute_result"
    }
   ],
   "source": [
    "#X、K必须设为浮点数tensor，否则下一个cell里的api用不了\n",
    "#若为整数tensor，tconv.weight.data=K此句会报错\n",
    "#RuntimeError：data set to a tensor that requires gradients must be floating point or complex dtype\n",
    "#需要梯度的张量数据集必须是浮点或复数\n",
    "X = torch.tensor([[0.0, 1.0], [2.0, 3.0]])\n",
    "K = torch.tensor([[0.0, 1.0], [2.0, 3.0]])\n",
    "trans_conv(X,K)"
   ]
  },
  {
   "cell_type": "code",
   "execution_count": null,
   "id": "908acea4",
   "metadata": {},
   "outputs": [
    {
     "data": {
      "text/plain": [
       "tensor([[[[ 0.,  0.,  1.],\n",
       "          [ 0.,  4.,  6.],\n",
       "          [ 4., 12.,  9.]]]], grad_fn=<ConvolutionBackward0>)"
      ]
     },
     "execution_count": 6,
     "metadata": {},
     "output_type": "execute_result"
    }
   ],
   "source": [
    "#使用pytorch的api实现transposed convolution\n",
    "X,K=X.reshape(1,1,2,2),K.reshape(1,1,2,2)\n",
    "tconv=nn.ConvTranspose2d(1,1,kernel_size=2,bias=False)\n",
    "tconv.weight.data=K\n",
    "tconv(X)"
   ]
  },
  {
   "cell_type": "code",
   "execution_count": null,
   "id": "4dc9936c",
   "metadata": {},
   "outputs": [
    {
     "data": {
      "text/plain": [
       "tensor([[[[4.]]]], grad_fn=<ConvolutionBackward0>)"
      ]
     },
     "execution_count": 7,
     "metadata": {},
     "output_type": "execute_result"
    }
   ],
   "source": [
    "#transposed convolution's padding\n",
    "tconv=nn.ConvTranspose2d(1,1,kernel_size=2,padding=1,bias=False)\n",
    "tconv.weight.data=K\n",
    "tconv(X)"
   ]
  },
  {
   "cell_type": "code",
   "execution_count": 8,
   "id": "99d281a7",
   "metadata": {},
   "outputs": [
    {
     "data": {
      "text/plain": [
       "tensor([[[[0., 0., 0., 1.],\n",
       "          [0., 0., 2., 3.],\n",
       "          [0., 2., 0., 3.],\n",
       "          [4., 6., 6., 9.]]]], grad_fn=<ConvolutionBackward0>)"
      ]
     },
     "execution_count": 8,
     "metadata": {},
     "output_type": "execute_result"
    }
   ],
   "source": [
    "#transposed convolution's stride\n",
    "tconv=nn.ConvTranspose2d(1,1,kernel_size=2,stride=2,bias=False)\n",
    "tconv.weight.data=K\n",
    "tconv(X)"
   ]
  },
  {
   "cell_type": "code",
   "execution_count": null,
   "id": "ec5a72d2",
   "metadata": {},
   "outputs": [
    {
     "data": {
      "text/plain": [
       "True"
      ]
     },
     "execution_count": 10,
     "metadata": {},
     "output_type": "execute_result"
    }
   ],
   "source": [
    "#昭示卷积和转置卷积之间的关系\n",
    "#相同的超参数，二者对形状的变换可视为互逆\n",
    "X=torch.rand(size=(1,10,16,16))\n",
    "conv=nn.Conv2d(10,20,kernel_size=5,padding=2,stride=3)\n",
    "tconv=nn.ConvTranspose2d(20,10,kernel_size=5,padding=2,stride=3)\n",
    "tconv(conv(X)).shape==X.shape"
   ]
  },
  {
   "cell_type": "code",
   "execution_count": null,
   "id": "b7353a93",
   "metadata": {},
   "outputs": [
    {
     "data": {
      "text/plain": [
       "(tensor([1., 2., 0., 3., 4.]),\n",
       " tensor([[1., 2., 0., 3., 4., 0., 0., 0., 0.],\n",
       "         [0., 1., 2., 0., 3., 4., 0., 0., 0.],\n",
       "         [0., 0., 0., 1., 2., 0., 3., 4., 0.],\n",
       "         [0., 0., 0., 0., 1., 2., 0., 3., 4.]]))"
      ]
     },
     "execution_count": 16,
     "metadata": {},
     "output_type": "execute_result"
    }
   ],
   "source": [
    "#下面两个cell用矩阵乘法来实现卷积\n",
    "K = torch.tensor([[1.0, 2.0], [3.0, 4.0]])\n",
    "def kernel2matrix(K):\n",
    "    k, W = torch.zeros(5), torch.zeros((4, 9))\n",
    "    k[:2], k[3:5] = K[0, :], K[1, :]\n",
    "    W[0, :5], W[1, 1:6], W[2, 3:8], W[3, 4:] = k, k, k, k\n",
    "    return k,W\n",
    "\n",
    "k,W = kernel2matrix(K)\n",
    "k,W"
   ]
  },
  {
   "cell_type": "code",
   "execution_count": 17,
   "id": "c6d6796a",
   "metadata": {},
   "outputs": [
    {
     "data": {
      "text/plain": [
       "tensor([[True, True],\n",
       "        [True, True]])"
      ]
     },
     "execution_count": 17,
     "metadata": {},
     "output_type": "execute_result"
    }
   ],
   "source": [
    "X = torch.arange(9.0).reshape(3, 3)\n",
    "Y = d2l.corr2d(X, K)\n",
    "Y==torch.matmul(W,X.reshape(-1)).reshape(2,2)"
   ]
  },
  {
   "cell_type": "code",
   "execution_count": 18,
   "id": "7c8c5e7e",
   "metadata": {},
   "outputs": [
    {
     "data": {
      "text/plain": [
       "tensor([[True, True, True],\n",
       "        [True, True, True],\n",
       "        [True, True, True]])"
      ]
     },
     "execution_count": 18,
     "metadata": {},
     "output_type": "execute_result"
    }
   ],
   "source": [
    "#矩阵乘法实现转置卷积\n",
    "Z=trans_conv(Y,K)\n",
    "Z==torch.matmul(W.T,Y.reshape(-1)).reshape(3,3)"
   ]
  }
 ],
 "metadata": {
  "kernelspec": {
   "display_name": "my2",
   "language": "python",
   "name": "python3"
  },
  "language_info": {
   "codemirror_mode": {
    "name": "ipython",
    "version": 3
   },
   "file_extension": ".py",
   "mimetype": "text/x-python",
   "name": "python",
   "nbconvert_exporter": "python",
   "pygments_lexer": "ipython3",
   "version": "3.8.20"
  }
 },
 "nbformat": 4,
 "nbformat_minor": 5
}
