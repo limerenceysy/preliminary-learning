{
 "cells": [
  {
   "cell_type": "code",
   "execution_count": null,
   "id": "b5edebd2",
   "metadata": {},
   "outputs": [],
   "source": [
    "import hashlib\n",
    "import os \n",
    "import tarfile\n",
    "import zipfile\n",
    "import requests\n",
    "\n",
    "DATA_HUB=dict()\n",
    "DATA_URL='http://d2l-data.s3-accelerate.amazonaws.com'\n",
    "\n",
    "#下载数据的函数\n",
    "#从一个预定义的数据集仓库（DATA_HUB）中下载文件，并将其保存到本地缓存目录中\n",
    "def download(name,cache_dir=os.path.join('..','data')):\n",
    "    #name：要下载的文件的名称，该名称必须在 DATA_HUB 字典中定义\n",
    "    #cache_dir：本地缓存目录的路径，默认值为 ../data\n",
    "    assert name in DATA_HUB,f\"{name} 不存在于 {DATA_HUB}\"\n",
    "    #从 DATA_HUB 字典中获取文件的 URL 和对应的 SHA1 校验码\n",
    "    # DATA_HUB 是一个字典，键是文件名，值是一个包含 URL 和 SHA1 校验码的元组。\n",
    "    url,sha1_hash=DATA_HUB[name]\n",
    "    os.makedirs(cache_dir,exist_ok=True)\n",
    "    fname=os.path.join(cache_dir,url.split('/')[-1])\n",
    "    if os.path.exists(fname):\n",
    "        sha1=hashlib.sha1()#计算文件的 SHA1 校验码\n",
    "        with open(fname,'rb') as f:\n",
    "            while True:\n",
    "                data=f.read(1048576)\n",
    "                if not data:\n",
    "                    break\n",
    "                sha1.update(data)\n",
    "        if sha1.hexdigest()==sha1_hash:\n",
    "            return fname\n",
    "    print(f'正在从{url}下载{fname}')\n",
    "    r=requests.get(url,stream=True,verify=True)\n",
    "    with open(fname,'wb') as f:\n",
    "        f.write(r.content)\n",
    "    return fname\n"
   ]
  }
 ],
 "metadata": {
  "kernelspec": {
   "display_name": "my2",
   "language": "python",
   "name": "python3"
  },
  "language_info": {
   "name": "python",
   "version": "3.8.20"
  }
 },
 "nbformat": 4,
 "nbformat_minor": 5
}
